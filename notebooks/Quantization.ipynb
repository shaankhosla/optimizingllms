{
  "cells": [
    {
      "cell_type": "markdown",
      "metadata": {
        "id": "81GOWrTOG9UL"
      },
      "source": [
        "<a target=\"_blank\" href=\"https://colab.research.google.com/github/shaankhosla/optimizingllms/blob/main/notebooks/Quantization.ipynb\">\n",
        "  <img src=\"https://colab.research.google.com/assets/colab-badge.svg\" alt=\"Open In Colab\"/>\n",
        "</a>"
      ]
    },
    {
      "cell_type": "markdown",
      "source": [
        "Use CPU"
      ],
      "metadata": {
        "id": "neINwy6OMVGs"
      }
    },
    {
      "cell_type": "code",
      "execution_count": 1,
      "metadata": {
        "id": "3tZuoc7DZ7dQ"
      },
      "outputs": [],
      "source": [
        "%%capture\n",
        "!pip install \"optimum-intel[neural-compressor]\"@git+https://github.com/huggingface/optimum-intel.git"
      ]
    },
    {
      "cell_type": "code",
      "execution_count": 2,
      "metadata": {
        "id": "BXbfQMrSQb-S"
      },
      "outputs": [],
      "source": [
        "from transformers import AutoModelForQuestionAnswering\n",
        "from neural_compressor.config import PostTrainingQuantConfig\n",
        "from optimum.intel import INCQuantizer"
      ]
    },
    {
      "cell_type": "code",
      "execution_count": 3,
      "metadata": {
        "colab": {
          "base_uri": "https://localhost:8080/",
          "height": 1000,
          "referenced_widgets": [
            "e28c1c0c29c44530942a64eb84dcc3f8",
            "3fb57a266faa40c8abae89ea5fed72a7",
            "df3d2a54067d41808ba8e6cb39b68272",
            "a44d98a5eab049339c53e4b51445614a",
            "1c1595cab94549ba90d9831a36b6dc61",
            "8c7d511e89e74752a720f9fe35696bd0",
            "ac9df68d1fc44155b59732f53e26c789",
            "e0bf8dcd5c764263af275f8094c671bc",
            "2beae8db2b7b4135b5abfc19ccd9d78c",
            "68eb5d92a0cf478aa9051455a02ed1ca",
            "3ed19341c1f14196bca13986602f3dc4",
            "2bb170c2882a43c08451ba41e2873a43",
            "b2fed714913e45a4b0d9a7c3e444b2d3",
            "e1faa79c964d48438dc70a32e37697ad",
            "33816b337a9f43c7b69e546f40837bff",
            "dfd2dbaa21ea406088925793be83e29d",
            "c0c54fef742c4653826cc27bcc2fd17a",
            "59944593c99742faa7488d774155281c",
            "20c4974663094de99a752cdb546969ad",
            "c063161955fa4681af9c6a8c989b8eb7",
            "99d2367da1774573966f1b72f104fe13",
            "8fe94caa23d3451a8404ea582a71a38a"
          ]
        },
        "id": "s_vEZFAkQd6U",
        "outputId": "3109031e-5e55-434d-fbfa-a5815c99fd70"
      },
      "outputs": [
        {
          "output_type": "display_data",
          "data": {
            "text/plain": [
              "Downloading (…)lve/main/config.json:   0%|          | 0.00/694 [00:00<?, ?B/s]"
            ],
            "application/vnd.jupyter.widget-view+json": {
              "version_major": 2,
              "version_minor": 0,
              "model_id": "e28c1c0c29c44530942a64eb84dcc3f8"
            }
          },
          "metadata": {}
        },
        {
          "output_type": "display_data",
          "data": {
            "text/plain": [
              "Downloading pytorch_model.bin:   0%|          | 0.00/597M [00:00<?, ?B/s]"
            ],
            "application/vnd.jupyter.widget-view+json": {
              "version_major": 2,
              "version_minor": 0,
              "model_id": "2bb170c2882a43c08451ba41e2873a43"
            }
          },
          "metadata": {}
        },
        {
          "output_type": "stream",
          "name": "stderr",
          "text": [
            "Some weights of LongformerForQuestionAnswering were not initialized from the model checkpoint at allenai/longformer-base-4096 and are newly initialized: ['qa_outputs.bias', 'qa_outputs.weight']\n",
            "You should probably TRAIN this model on a down-stream task to be able to use it for predictions and inference.\n",
            "2023-07-19 22:04:06 [INFO] Start auto tuning.\n",
            "2023-07-19 22:04:06 [INFO] Execute the tuning process due to detect the evaluation function.\n",
            "2023-07-19 22:04:06 [INFO] Adaptor has 4 recipes.\n",
            "2023-07-19 22:04:06 [INFO] 0 recipes specified by user.\n",
            "2023-07-19 22:04:06 [INFO] 3 recipes require future tuning.\n",
            "2023-07-19 22:04:06 [INFO] *** Initialize auto tuning\n",
            "2023-07-19 22:04:06 [INFO] {\n",
            "2023-07-19 22:04:06 [INFO]     'PostTrainingQuantConfig': {\n",
            "2023-07-19 22:04:06 [INFO]         'AccuracyCriterion': {\n",
            "2023-07-19 22:04:06 [INFO]             'criterion': 'relative',\n",
            "2023-07-19 22:04:06 [INFO]             'higher_is_better': True,\n",
            "2023-07-19 22:04:06 [INFO]             'tolerable_loss': 0.01,\n",
            "2023-07-19 22:04:06 [INFO]             'absolute': None,\n",
            "2023-07-19 22:04:06 [INFO]             'keys': <bound method AccuracyCriterion.keys of <neural_compressor.config.AccuracyCriterion object at 0x78b95fb10130>>,\n",
            "2023-07-19 22:04:06 [INFO]             'relative': 0.01\n",
            "2023-07-19 22:04:06 [INFO]         },\n",
            "2023-07-19 22:04:06 [INFO]         'approach': 'post_training_dynamic_quant',\n",
            "2023-07-19 22:04:06 [INFO]         'backend': 'default',\n",
            "2023-07-19 22:04:06 [INFO]         'calibration_sampling_size': [\n",
            "2023-07-19 22:04:06 [INFO]             100\n",
            "2023-07-19 22:04:06 [INFO]         ],\n",
            "2023-07-19 22:04:06 [INFO]         'device': 'cpu',\n",
            "2023-07-19 22:04:06 [INFO]         'diagnosis': False,\n",
            "2023-07-19 22:04:06 [INFO]         'domain': 'auto',\n",
            "2023-07-19 22:04:06 [INFO]         'example_inputs': None,\n",
            "2023-07-19 22:04:06 [INFO]         'excluded_precisions': [\n",
            "2023-07-19 22:04:06 [INFO]         ],\n",
            "2023-07-19 22:04:06 [INFO]         'framework': 'pytorch_fx',\n",
            "2023-07-19 22:04:06 [INFO]         'inputs': [\n",
            "2023-07-19 22:04:06 [INFO]         ],\n",
            "2023-07-19 22:04:06 [INFO]         'model_name': '',\n",
            "2023-07-19 22:04:06 [INFO]         'op_name_dict': None,\n",
            "2023-07-19 22:04:06 [INFO]         'op_type_dict': None,\n",
            "2023-07-19 22:04:06 [INFO]         'outputs': [\n",
            "2023-07-19 22:04:06 [INFO]         ],\n",
            "2023-07-19 22:04:06 [INFO]         'quant_format': 'default',\n",
            "2023-07-19 22:04:06 [INFO]         'quant_level': 'auto',\n",
            "2023-07-19 22:04:06 [INFO]         'recipes': {\n",
            "2023-07-19 22:04:06 [INFO]             'smooth_quant': False,\n",
            "2023-07-19 22:04:06 [INFO]             'smooth_quant_args': {\n",
            "2023-07-19 22:04:06 [INFO]             },\n",
            "2023-07-19 22:04:06 [INFO]             'fast_bias_correction': False,\n",
            "2023-07-19 22:04:06 [INFO]             'weight_correction': False,\n",
            "2023-07-19 22:04:06 [INFO]             'gemm_to_matmul': True,\n",
            "2023-07-19 22:04:06 [INFO]             'graph_optimization_level': None,\n",
            "2023-07-19 22:04:06 [INFO]             'first_conv_or_matmul_quantization': True,\n",
            "2023-07-19 22:04:06 [INFO]             'last_conv_or_matmul_quantization': True,\n",
            "2023-07-19 22:04:06 [INFO]             'pre_post_process_quantization': True,\n",
            "2023-07-19 22:04:06 [INFO]             'add_qdq_pair_to_weight': False,\n",
            "2023-07-19 22:04:06 [INFO]             'optypes_to_exclude_output_quant': [\n",
            "2023-07-19 22:04:06 [INFO]             ],\n",
            "2023-07-19 22:04:06 [INFO]             'dedicated_qdq_pair': False\n",
            "2023-07-19 22:04:06 [INFO]         },\n",
            "2023-07-19 22:04:06 [INFO]         'reduce_range': None,\n",
            "2023-07-19 22:04:06 [INFO]         'TuningCriterion': {\n",
            "2023-07-19 22:04:06 [INFO]             'max_trials': 100,\n",
            "2023-07-19 22:04:06 [INFO]             'objective': 'performance',\n",
            "2023-07-19 22:04:06 [INFO]             'strategy': 'basic',\n",
            "2023-07-19 22:04:06 [INFO]             'strategy_kwargs': None,\n",
            "2023-07-19 22:04:06 [INFO]             'timeout': 0\n",
            "2023-07-19 22:04:06 [INFO]         },\n",
            "2023-07-19 22:04:06 [INFO]         'use_bf16': True\n",
            "2023-07-19 22:04:06 [INFO]     }\n",
            "2023-07-19 22:04:06 [INFO] }\n",
            "2023-07-19 22:04:06 [WARNING] [Strategy] Please install `mpi4py` correctly if using distributed tuning; otherwise, ignore this warning.\n",
            "2023-07-19 22:04:08 [INFO] Attention Blocks: 0\n",
            "2023-07-19 22:04:08 [INFO] FFN Blocks: 0\n",
            "2023-07-19 22:04:08 [INFO] Pass query framework capability elapsed time: 1814.55 ms\n",
            "2023-07-19 22:04:08 [INFO] Get FP32 model baseline.\n",
            "2023-07-19 22:04:08 [INFO] Save tuning history to /content/nc_workspace/2023-07-19_22-03-31/./history.snapshot.\n",
            "2023-07-19 22:04:08 [INFO] FP32 baseline is: [Accuracy: 1.0000, Duration (seconds): 0.0000]\n",
            "2023-07-19 22:04:08 [INFO] Quantize the model with default config.\n",
            "2023-07-19 22:04:09 [INFO] Fx trace of the entire model failed, We will conduct auto quantization\n",
            "2023-07-19 22:04:25 [INFO] |Mixed Precision Statistics|\n",
            "2023-07-19 22:04:25 [INFO] +-----------+-------+------+\n",
            "2023-07-19 22:04:25 [INFO] |  Op Type  | Total | INT8 |\n",
            "2023-07-19 22:04:25 [INFO] +-----------+-------+------+\n",
            "2023-07-19 22:04:25 [INFO] | Embedding |   3   |  3   |\n",
            "2023-07-19 22:04:25 [INFO] |   Linear  |  109  | 109  |\n",
            "2023-07-19 22:04:25 [INFO] +-----------+-------+------+\n",
            "2023-07-19 22:04:25 [INFO] Pass quantize model elapsed time: 17027.53 ms\n",
            "2023-07-19 22:04:25 [INFO] Tune 1 result is: [Accuracy (int8|fp32): 1.0000|1.0000, Duration (seconds) (int8|fp32): 0.0000|0.0000], Best tune result is: [Accuracy: 1.0000, Duration (seconds): 0.0000]\n",
            "2023-07-19 22:04:25 [INFO] |**********************Tune Result Statistics**********************|\n",
            "2023-07-19 22:04:25 [INFO] +--------------------+----------+---------------+------------------+\n",
            "2023-07-19 22:04:25 [INFO] |     Info Type      | Baseline | Tune 1 result | Best tune result |\n",
            "2023-07-19 22:04:25 [INFO] +--------------------+----------+---------------+------------------+\n",
            "2023-07-19 22:04:25 [INFO] |      Accuracy      | 1.0000   |    1.0000     |     1.0000       |\n",
            "2023-07-19 22:04:25 [INFO] | Duration (seconds) | 0.0000   |    0.0000     |     0.0000       |\n",
            "2023-07-19 22:04:25 [INFO] +--------------------+----------+---------------+------------------+\n",
            "2023-07-19 22:04:25 [INFO] Save tuning history to /content/nc_workspace/2023-07-19_22-03-31/./history.snapshot.\n",
            "2023-07-19 22:04:25 [INFO] Specified timeout or max trials is reached! Found a quantized model which meet accuracy goal. Exit.\n",
            "2023-07-19 22:04:25 [INFO] Save deploy yaml to /content/nc_workspace/2023-07-19_22-03-31/deploy.yaml\n",
            "Model weights saved to dynamic_quantization/pytorch_model.bin\n",
            "Configuration saved in dynamic_quantization/inc_config.json\n"
          ]
        }
      ],
      "source": [
        "model_name = \"allenai/longformer-base-4096\"\n",
        "\n",
        "\n",
        "model = AutoModelForQuestionAnswering.from_pretrained(\n",
        "    model_name, cache_dir=\"model_cache\"\n",
        ")\n",
        "save_dir = \"dynamic_quantization\"\n",
        "\n",
        "quantization_config = PostTrainingQuantConfig(approach=\"dynamic\")\n",
        "quantizer = INCQuantizer.from_pretrained(model)\n",
        "quantizer.quantize(quantization_config=quantization_config, save_directory=save_dir)"
      ]
    },
    {
      "cell_type": "code",
      "execution_count": 4,
      "metadata": {
        "colab": {
          "base_uri": "https://localhost:8080/"
        },
        "id": "6ftNpWpzekAl",
        "outputId": "1b1ea1c8-289e-4fd1-bcd8-8cae8a6fa3cd"
      },
      "outputs": [
        {
          "output_type": "stream",
          "name": "stdout",
          "text": [
            "570M\tmodel_cache/\n"
          ]
        }
      ],
      "source": [
        "!du -sh model_cache/"
      ]
    },
    {
      "cell_type": "code",
      "execution_count": 5,
      "metadata": {
        "colab": {
          "base_uri": "https://localhost:8080/"
        },
        "id": "t-T_Tg_LemCE",
        "outputId": "ac3b1058-6aad-4915-ccc3-c64cb2a83bf1"
      },
      "outputs": [
        {
          "output_type": "stream",
          "name": "stdout",
          "text": [
            "145M\tdynamic_quantization/\n"
          ]
        }
      ],
      "source": [
        "!du -sh dynamic_quantization/"
      ]
    },
    {
      "cell_type": "code",
      "execution_count": 5,
      "metadata": {
        "id": "fxHnMAt5fZpT"
      },
      "outputs": [],
      "source": []
    }
  ],
  "metadata": {
    "colab": {
      "provenance": []
    },
    "kernelspec": {
      "display_name": "Python 3",
      "name": "python3"
    },
    "language_info": {
      "name": "python"
    },
    "widgets": {
      "application/vnd.jupyter.widget-state+json": {
        "e28c1c0c29c44530942a64eb84dcc3f8": {
          "model_module": "@jupyter-widgets/controls",
          "model_name": "HBoxModel",
          "model_module_version": "1.5.0",
          "state": {
            "_dom_classes": [],
            "_model_module": "@jupyter-widgets/controls",
            "_model_module_version": "1.5.0",
            "_model_name": "HBoxModel",
            "_view_count": null,
            "_view_module": "@jupyter-widgets/controls",
            "_view_module_version": "1.5.0",
            "_view_name": "HBoxView",
            "box_style": "",
            "children": [
              "IPY_MODEL_3fb57a266faa40c8abae89ea5fed72a7",
              "IPY_MODEL_df3d2a54067d41808ba8e6cb39b68272",
              "IPY_MODEL_a44d98a5eab049339c53e4b51445614a"
            ],
            "layout": "IPY_MODEL_1c1595cab94549ba90d9831a36b6dc61"
          }
        },
        "3fb57a266faa40c8abae89ea5fed72a7": {
          "model_module": "@jupyter-widgets/controls",
          "model_name": "HTMLModel",
          "model_module_version": "1.5.0",
          "state": {
            "_dom_classes": [],
            "_model_module": "@jupyter-widgets/controls",
            "_model_module_version": "1.5.0",
            "_model_name": "HTMLModel",
            "_view_count": null,
            "_view_module": "@jupyter-widgets/controls",
            "_view_module_version": "1.5.0",
            "_view_name": "HTMLView",
            "description": "",
            "description_tooltip": null,
            "layout": "IPY_MODEL_8c7d511e89e74752a720f9fe35696bd0",
            "placeholder": "​",
            "style": "IPY_MODEL_ac9df68d1fc44155b59732f53e26c789",
            "value": "Downloading (…)lve/main/config.json: 100%"
          }
        },
        "df3d2a54067d41808ba8e6cb39b68272": {
          "model_module": "@jupyter-widgets/controls",
          "model_name": "FloatProgressModel",
          "model_module_version": "1.5.0",
          "state": {
            "_dom_classes": [],
            "_model_module": "@jupyter-widgets/controls",
            "_model_module_version": "1.5.0",
            "_model_name": "FloatProgressModel",
            "_view_count": null,
            "_view_module": "@jupyter-widgets/controls",
            "_view_module_version": "1.5.0",
            "_view_name": "ProgressView",
            "bar_style": "success",
            "description": "",
            "description_tooltip": null,
            "layout": "IPY_MODEL_e0bf8dcd5c764263af275f8094c671bc",
            "max": 694,
            "min": 0,
            "orientation": "horizontal",
            "style": "IPY_MODEL_2beae8db2b7b4135b5abfc19ccd9d78c",
            "value": 694
          }
        },
        "a44d98a5eab049339c53e4b51445614a": {
          "model_module": "@jupyter-widgets/controls",
          "model_name": "HTMLModel",
          "model_module_version": "1.5.0",
          "state": {
            "_dom_classes": [],
            "_model_module": "@jupyter-widgets/controls",
            "_model_module_version": "1.5.0",
            "_model_name": "HTMLModel",
            "_view_count": null,
            "_view_module": "@jupyter-widgets/controls",
            "_view_module_version": "1.5.0",
            "_view_name": "HTMLView",
            "description": "",
            "description_tooltip": null,
            "layout": "IPY_MODEL_68eb5d92a0cf478aa9051455a02ed1ca",
            "placeholder": "​",
            "style": "IPY_MODEL_3ed19341c1f14196bca13986602f3dc4",
            "value": " 694/694 [00:00&lt;00:00, 29.5kB/s]"
          }
        },
        "1c1595cab94549ba90d9831a36b6dc61": {
          "model_module": "@jupyter-widgets/base",
          "model_name": "LayoutModel",
          "model_module_version": "1.2.0",
          "state": {
            "_model_module": "@jupyter-widgets/base",
            "_model_module_version": "1.2.0",
            "_model_name": "LayoutModel",
            "_view_count": null,
            "_view_module": "@jupyter-widgets/base",
            "_view_module_version": "1.2.0",
            "_view_name": "LayoutView",
            "align_content": null,
            "align_items": null,
            "align_self": null,
            "border": null,
            "bottom": null,
            "display": null,
            "flex": null,
            "flex_flow": null,
            "grid_area": null,
            "grid_auto_columns": null,
            "grid_auto_flow": null,
            "grid_auto_rows": null,
            "grid_column": null,
            "grid_gap": null,
            "grid_row": null,
            "grid_template_areas": null,
            "grid_template_columns": null,
            "grid_template_rows": null,
            "height": null,
            "justify_content": null,
            "justify_items": null,
            "left": null,
            "margin": null,
            "max_height": null,
            "max_width": null,
            "min_height": null,
            "min_width": null,
            "object_fit": null,
            "object_position": null,
            "order": null,
            "overflow": null,
            "overflow_x": null,
            "overflow_y": null,
            "padding": null,
            "right": null,
            "top": null,
            "visibility": null,
            "width": null
          }
        },
        "8c7d511e89e74752a720f9fe35696bd0": {
          "model_module": "@jupyter-widgets/base",
          "model_name": "LayoutModel",
          "model_module_version": "1.2.0",
          "state": {
            "_model_module": "@jupyter-widgets/base",
            "_model_module_version": "1.2.0",
            "_model_name": "LayoutModel",
            "_view_count": null,
            "_view_module": "@jupyter-widgets/base",
            "_view_module_version": "1.2.0",
            "_view_name": "LayoutView",
            "align_content": null,
            "align_items": null,
            "align_self": null,
            "border": null,
            "bottom": null,
            "display": null,
            "flex": null,
            "flex_flow": null,
            "grid_area": null,
            "grid_auto_columns": null,
            "grid_auto_flow": null,
            "grid_auto_rows": null,
            "grid_column": null,
            "grid_gap": null,
            "grid_row": null,
            "grid_template_areas": null,
            "grid_template_columns": null,
            "grid_template_rows": null,
            "height": null,
            "justify_content": null,
            "justify_items": null,
            "left": null,
            "margin": null,
            "max_height": null,
            "max_width": null,
            "min_height": null,
            "min_width": null,
            "object_fit": null,
            "object_position": null,
            "order": null,
            "overflow": null,
            "overflow_x": null,
            "overflow_y": null,
            "padding": null,
            "right": null,
            "top": null,
            "visibility": null,
            "width": null
          }
        },
        "ac9df68d1fc44155b59732f53e26c789": {
          "model_module": "@jupyter-widgets/controls",
          "model_name": "DescriptionStyleModel",
          "model_module_version": "1.5.0",
          "state": {
            "_model_module": "@jupyter-widgets/controls",
            "_model_module_version": "1.5.0",
            "_model_name": "DescriptionStyleModel",
            "_view_count": null,
            "_view_module": "@jupyter-widgets/base",
            "_view_module_version": "1.2.0",
            "_view_name": "StyleView",
            "description_width": ""
          }
        },
        "e0bf8dcd5c764263af275f8094c671bc": {
          "model_module": "@jupyter-widgets/base",
          "model_name": "LayoutModel",
          "model_module_version": "1.2.0",
          "state": {
            "_model_module": "@jupyter-widgets/base",
            "_model_module_version": "1.2.0",
            "_model_name": "LayoutModel",
            "_view_count": null,
            "_view_module": "@jupyter-widgets/base",
            "_view_module_version": "1.2.0",
            "_view_name": "LayoutView",
            "align_content": null,
            "align_items": null,
            "align_self": null,
            "border": null,
            "bottom": null,
            "display": null,
            "flex": null,
            "flex_flow": null,
            "grid_area": null,
            "grid_auto_columns": null,
            "grid_auto_flow": null,
            "grid_auto_rows": null,
            "grid_column": null,
            "grid_gap": null,
            "grid_row": null,
            "grid_template_areas": null,
            "grid_template_columns": null,
            "grid_template_rows": null,
            "height": null,
            "justify_content": null,
            "justify_items": null,
            "left": null,
            "margin": null,
            "max_height": null,
            "max_width": null,
            "min_height": null,
            "min_width": null,
            "object_fit": null,
            "object_position": null,
            "order": null,
            "overflow": null,
            "overflow_x": null,
            "overflow_y": null,
            "padding": null,
            "right": null,
            "top": null,
            "visibility": null,
            "width": null
          }
        },
        "2beae8db2b7b4135b5abfc19ccd9d78c": {
          "model_module": "@jupyter-widgets/controls",
          "model_name": "ProgressStyleModel",
          "model_module_version": "1.5.0",
          "state": {
            "_model_module": "@jupyter-widgets/controls",
            "_model_module_version": "1.5.0",
            "_model_name": "ProgressStyleModel",
            "_view_count": null,
            "_view_module": "@jupyter-widgets/base",
            "_view_module_version": "1.2.0",
            "_view_name": "StyleView",
            "bar_color": null,
            "description_width": ""
          }
        },
        "68eb5d92a0cf478aa9051455a02ed1ca": {
          "model_module": "@jupyter-widgets/base",
          "model_name": "LayoutModel",
          "model_module_version": "1.2.0",
          "state": {
            "_model_module": "@jupyter-widgets/base",
            "_model_module_version": "1.2.0",
            "_model_name": "LayoutModel",
            "_view_count": null,
            "_view_module": "@jupyter-widgets/base",
            "_view_module_version": "1.2.0",
            "_view_name": "LayoutView",
            "align_content": null,
            "align_items": null,
            "align_self": null,
            "border": null,
            "bottom": null,
            "display": null,
            "flex": null,
            "flex_flow": null,
            "grid_area": null,
            "grid_auto_columns": null,
            "grid_auto_flow": null,
            "grid_auto_rows": null,
            "grid_column": null,
            "grid_gap": null,
            "grid_row": null,
            "grid_template_areas": null,
            "grid_template_columns": null,
            "grid_template_rows": null,
            "height": null,
            "justify_content": null,
            "justify_items": null,
            "left": null,
            "margin": null,
            "max_height": null,
            "max_width": null,
            "min_height": null,
            "min_width": null,
            "object_fit": null,
            "object_position": null,
            "order": null,
            "overflow": null,
            "overflow_x": null,
            "overflow_y": null,
            "padding": null,
            "right": null,
            "top": null,
            "visibility": null,
            "width": null
          }
        },
        "3ed19341c1f14196bca13986602f3dc4": {
          "model_module": "@jupyter-widgets/controls",
          "model_name": "DescriptionStyleModel",
          "model_module_version": "1.5.0",
          "state": {
            "_model_module": "@jupyter-widgets/controls",
            "_model_module_version": "1.5.0",
            "_model_name": "DescriptionStyleModel",
            "_view_count": null,
            "_view_module": "@jupyter-widgets/base",
            "_view_module_version": "1.2.0",
            "_view_name": "StyleView",
            "description_width": ""
          }
        },
        "2bb170c2882a43c08451ba41e2873a43": {
          "model_module": "@jupyter-widgets/controls",
          "model_name": "HBoxModel",
          "model_module_version": "1.5.0",
          "state": {
            "_dom_classes": [],
            "_model_module": "@jupyter-widgets/controls",
            "_model_module_version": "1.5.0",
            "_model_name": "HBoxModel",
            "_view_count": null,
            "_view_module": "@jupyter-widgets/controls",
            "_view_module_version": "1.5.0",
            "_view_name": "HBoxView",
            "box_style": "",
            "children": [
              "IPY_MODEL_b2fed714913e45a4b0d9a7c3e444b2d3",
              "IPY_MODEL_e1faa79c964d48438dc70a32e37697ad",
              "IPY_MODEL_33816b337a9f43c7b69e546f40837bff"
            ],
            "layout": "IPY_MODEL_dfd2dbaa21ea406088925793be83e29d"
          }
        },
        "b2fed714913e45a4b0d9a7c3e444b2d3": {
          "model_module": "@jupyter-widgets/controls",
          "model_name": "HTMLModel",
          "model_module_version": "1.5.0",
          "state": {
            "_dom_classes": [],
            "_model_module": "@jupyter-widgets/controls",
            "_model_module_version": "1.5.0",
            "_model_name": "HTMLModel",
            "_view_count": null,
            "_view_module": "@jupyter-widgets/controls",
            "_view_module_version": "1.5.0",
            "_view_name": "HTMLView",
            "description": "",
            "description_tooltip": null,
            "layout": "IPY_MODEL_c0c54fef742c4653826cc27bcc2fd17a",
            "placeholder": "​",
            "style": "IPY_MODEL_59944593c99742faa7488d774155281c",
            "value": "Downloading pytorch_model.bin: 100%"
          }
        },
        "e1faa79c964d48438dc70a32e37697ad": {
          "model_module": "@jupyter-widgets/controls",
          "model_name": "FloatProgressModel",
          "model_module_version": "1.5.0",
          "state": {
            "_dom_classes": [],
            "_model_module": "@jupyter-widgets/controls",
            "_model_module_version": "1.5.0",
            "_model_name": "FloatProgressModel",
            "_view_count": null,
            "_view_module": "@jupyter-widgets/controls",
            "_view_module_version": "1.5.0",
            "_view_name": "ProgressView",
            "bar_style": "success",
            "description": "",
            "description_tooltip": null,
            "layout": "IPY_MODEL_20c4974663094de99a752cdb546969ad",
            "max": 597257159,
            "min": 0,
            "orientation": "horizontal",
            "style": "IPY_MODEL_c063161955fa4681af9c6a8c989b8eb7",
            "value": 597257159
          }
        },
        "33816b337a9f43c7b69e546f40837bff": {
          "model_module": "@jupyter-widgets/controls",
          "model_name": "HTMLModel",
          "model_module_version": "1.5.0",
          "state": {
            "_dom_classes": [],
            "_model_module": "@jupyter-widgets/controls",
            "_model_module_version": "1.5.0",
            "_model_name": "HTMLModel",
            "_view_count": null,
            "_view_module": "@jupyter-widgets/controls",
            "_view_module_version": "1.5.0",
            "_view_name": "HTMLView",
            "description": "",
            "description_tooltip": null,
            "layout": "IPY_MODEL_99d2367da1774573966f1b72f104fe13",
            "placeholder": "​",
            "style": "IPY_MODEL_8fe94caa23d3451a8404ea582a71a38a",
            "value": " 597M/597M [00:06&lt;00:00, 85.0MB/s]"
          }
        },
        "dfd2dbaa21ea406088925793be83e29d": {
          "model_module": "@jupyter-widgets/base",
          "model_name": "LayoutModel",
          "model_module_version": "1.2.0",
          "state": {
            "_model_module": "@jupyter-widgets/base",
            "_model_module_version": "1.2.0",
            "_model_name": "LayoutModel",
            "_view_count": null,
            "_view_module": "@jupyter-widgets/base",
            "_view_module_version": "1.2.0",
            "_view_name": "LayoutView",
            "align_content": null,
            "align_items": null,
            "align_self": null,
            "border": null,
            "bottom": null,
            "display": null,
            "flex": null,
            "flex_flow": null,
            "grid_area": null,
            "grid_auto_columns": null,
            "grid_auto_flow": null,
            "grid_auto_rows": null,
            "grid_column": null,
            "grid_gap": null,
            "grid_row": null,
            "grid_template_areas": null,
            "grid_template_columns": null,
            "grid_template_rows": null,
            "height": null,
            "justify_content": null,
            "justify_items": null,
            "left": null,
            "margin": null,
            "max_height": null,
            "max_width": null,
            "min_height": null,
            "min_width": null,
            "object_fit": null,
            "object_position": null,
            "order": null,
            "overflow": null,
            "overflow_x": null,
            "overflow_y": null,
            "padding": null,
            "right": null,
            "top": null,
            "visibility": null,
            "width": null
          }
        },
        "c0c54fef742c4653826cc27bcc2fd17a": {
          "model_module": "@jupyter-widgets/base",
          "model_name": "LayoutModel",
          "model_module_version": "1.2.0",
          "state": {
            "_model_module": "@jupyter-widgets/base",
            "_model_module_version": "1.2.0",
            "_model_name": "LayoutModel",
            "_view_count": null,
            "_view_module": "@jupyter-widgets/base",
            "_view_module_version": "1.2.0",
            "_view_name": "LayoutView",
            "align_content": null,
            "align_items": null,
            "align_self": null,
            "border": null,
            "bottom": null,
            "display": null,
            "flex": null,
            "flex_flow": null,
            "grid_area": null,
            "grid_auto_columns": null,
            "grid_auto_flow": null,
            "grid_auto_rows": null,
            "grid_column": null,
            "grid_gap": null,
            "grid_row": null,
            "grid_template_areas": null,
            "grid_template_columns": null,
            "grid_template_rows": null,
            "height": null,
            "justify_content": null,
            "justify_items": null,
            "left": null,
            "margin": null,
            "max_height": null,
            "max_width": null,
            "min_height": null,
            "min_width": null,
            "object_fit": null,
            "object_position": null,
            "order": null,
            "overflow": null,
            "overflow_x": null,
            "overflow_y": null,
            "padding": null,
            "right": null,
            "top": null,
            "visibility": null,
            "width": null
          }
        },
        "59944593c99742faa7488d774155281c": {
          "model_module": "@jupyter-widgets/controls",
          "model_name": "DescriptionStyleModel",
          "model_module_version": "1.5.0",
          "state": {
            "_model_module": "@jupyter-widgets/controls",
            "_model_module_version": "1.5.0",
            "_model_name": "DescriptionStyleModel",
            "_view_count": null,
            "_view_module": "@jupyter-widgets/base",
            "_view_module_version": "1.2.0",
            "_view_name": "StyleView",
            "description_width": ""
          }
        },
        "20c4974663094de99a752cdb546969ad": {
          "model_module": "@jupyter-widgets/base",
          "model_name": "LayoutModel",
          "model_module_version": "1.2.0",
          "state": {
            "_model_module": "@jupyter-widgets/base",
            "_model_module_version": "1.2.0",
            "_model_name": "LayoutModel",
            "_view_count": null,
            "_view_module": "@jupyter-widgets/base",
            "_view_module_version": "1.2.0",
            "_view_name": "LayoutView",
            "align_content": null,
            "align_items": null,
            "align_self": null,
            "border": null,
            "bottom": null,
            "display": null,
            "flex": null,
            "flex_flow": null,
            "grid_area": null,
            "grid_auto_columns": null,
            "grid_auto_flow": null,
            "grid_auto_rows": null,
            "grid_column": null,
            "grid_gap": null,
            "grid_row": null,
            "grid_template_areas": null,
            "grid_template_columns": null,
            "grid_template_rows": null,
            "height": null,
            "justify_content": null,
            "justify_items": null,
            "left": null,
            "margin": null,
            "max_height": null,
            "max_width": null,
            "min_height": null,
            "min_width": null,
            "object_fit": null,
            "object_position": null,
            "order": null,
            "overflow": null,
            "overflow_x": null,
            "overflow_y": null,
            "padding": null,
            "right": null,
            "top": null,
            "visibility": null,
            "width": null
          }
        },
        "c063161955fa4681af9c6a8c989b8eb7": {
          "model_module": "@jupyter-widgets/controls",
          "model_name": "ProgressStyleModel",
          "model_module_version": "1.5.0",
          "state": {
            "_model_module": "@jupyter-widgets/controls",
            "_model_module_version": "1.5.0",
            "_model_name": "ProgressStyleModel",
            "_view_count": null,
            "_view_module": "@jupyter-widgets/base",
            "_view_module_version": "1.2.0",
            "_view_name": "StyleView",
            "bar_color": null,
            "description_width": ""
          }
        },
        "99d2367da1774573966f1b72f104fe13": {
          "model_module": "@jupyter-widgets/base",
          "model_name": "LayoutModel",
          "model_module_version": "1.2.0",
          "state": {
            "_model_module": "@jupyter-widgets/base",
            "_model_module_version": "1.2.0",
            "_model_name": "LayoutModel",
            "_view_count": null,
            "_view_module": "@jupyter-widgets/base",
            "_view_module_version": "1.2.0",
            "_view_name": "LayoutView",
            "align_content": null,
            "align_items": null,
            "align_self": null,
            "border": null,
            "bottom": null,
            "display": null,
            "flex": null,
            "flex_flow": null,
            "grid_area": null,
            "grid_auto_columns": null,
            "grid_auto_flow": null,
            "grid_auto_rows": null,
            "grid_column": null,
            "grid_gap": null,
            "grid_row": null,
            "grid_template_areas": null,
            "grid_template_columns": null,
            "grid_template_rows": null,
            "height": null,
            "justify_content": null,
            "justify_items": null,
            "left": null,
            "margin": null,
            "max_height": null,
            "max_width": null,
            "min_height": null,
            "min_width": null,
            "object_fit": null,
            "object_position": null,
            "order": null,
            "overflow": null,
            "overflow_x": null,
            "overflow_y": null,
            "padding": null,
            "right": null,
            "top": null,
            "visibility": null,
            "width": null
          }
        },
        "8fe94caa23d3451a8404ea582a71a38a": {
          "model_module": "@jupyter-widgets/controls",
          "model_name": "DescriptionStyleModel",
          "model_module_version": "1.5.0",
          "state": {
            "_model_module": "@jupyter-widgets/controls",
            "_model_module_version": "1.5.0",
            "_model_name": "DescriptionStyleModel",
            "_view_count": null,
            "_view_module": "@jupyter-widgets/base",
            "_view_module_version": "1.2.0",
            "_view_name": "StyleView",
            "description_width": ""
          }
        }
      }
    }
  },
  "nbformat": 4,
  "nbformat_minor": 0
}