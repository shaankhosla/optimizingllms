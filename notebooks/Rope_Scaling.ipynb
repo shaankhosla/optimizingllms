{
 "nbformat": 4,
 "nbformat_minor": 0,
 "metadata": {
  "colab": {
   "provenance": []
  },
  "kernelspec": {
   "name": "python3",
   "display_name": "Python 3"
  },
  "language_info": {
   "name": "python"
  }
 },
 "cells": [
  {
   "cell_type": "code",
   "execution_count": 1,
   "metadata": {
    "colab": {
     "base_uri": "https://localhost:8080/"
    },
    "id": "XqauH3KwM-9t",
    "outputId": "f8c07d0e-53ad-44fe-fb03-0360a2b8f390"
   },
   "outputs": [
    {
     "output_type": "stream",
     "name": "stdout",
     "text": [
      "  Installing build dependencies ... \u001b[?25l\u001b[?25hdone\n",
      "  Getting requirements to build wheel ... \u001b[?25l\u001b[?25hdone\n",
      "  Preparing metadata (pyproject.toml) ... \u001b[?25l\u001b[?25hdone\n"
     ]
    }
   ],
   "source": [
    "pip install -q -U git+https://github.com/huggingface/transformers.git"
   ]
  },
  {
   "cell_type": "code",
   "source": [
    "from transformers import AutoModelForCausalLM, AutoTokenizer\n",
    "import torch"
   ],
   "metadata": {
    "id": "rOmwg7JvNBZW"
   },
   "execution_count": 2,
   "outputs": []
  },
  {
   "cell_type": "code",
   "source": [
    "tokenizer = AutoTokenizer.from_pretrained(\"EleutherAI/pythia-1.4b-deduped\")\n",
    "model = AutoModelForCausalLM.from_pretrained(\n",
    "    \"EleutherAI/pythia-1.4b-deduped\",\n",
    "    torch_dtype=torch.bfloat16,\n",
    "    rope_scaling={\"type\": \"dynamic\", \"factor\": 2.0},\n",
    ")"
   ],
   "metadata": {
    "id": "Ex_wWi2WNGT5"
   },
   "execution_count": 3,
   "outputs": []
  },
  {
   "cell_type": "code",
   "source": [
    "inputs = tokenizer(\n",
    "    \"Pretend like this is some input larger than 5k tokens\", return_tensors=\"pt\"\n",
    ")\n",
    "gen_out = model.generate(**inputs, max_new_tokens=50)\n",
    "print(tokenizer.batch_decode(gen_out)[0])"
   ],
   "metadata": {
    "colab": {
     "base_uri": "https://localhost:8080/"
    },
    "id": "zEvDZYElNX3E",
    "outputId": "a55ca4b5-7a3a-4706-db5c-46568310e952"
   },
   "execution_count": 5,
   "outputs": [
    {
     "output_type": "stream",
     "name": "stderr",
     "text": [
      "Setting `pad_token_id` to `eos_token_id`:0 for open-end generation.\n"
     ]
    },
    {
     "output_type": "stream",
     "name": "stdout",
     "text": [
      "Pretend like this is some input larger than 5k tokens.\n",
      "\n",
      "A:\n",
      "\n",
      "I think you are looking for the following:\n",
      "\n",
      "The first step is to create a new column in the table.\n",
      "The second step is to create a new column in the table that is the sum of the\n"
     ]
    }
   ]
  },
  {
   "cell_type": "code",
   "source": [],
   "metadata": {
    "id": "tLdVyFbmNn0s"
   },
   "execution_count": 4,
   "outputs": []
  }
 ]
}