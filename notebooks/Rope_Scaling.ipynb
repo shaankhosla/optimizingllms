{
 "cells": [
  {
   "attachments": {},
   "cell_type": "markdown",
   "metadata": {},
   "source": [
    "<a target=\"_blank\" href=\"https://colab.research.google.com/github/shaankhosla/optimizingllms/blob/main/notebooks/Rope_Scaling.ipynb\">\n",
    "  <img src=\"https://colab.research.google.com/assets/colab-badge.svg\" alt=\"Open In Colab\"/>\n",
    "</a>"
   ]
  },
  {
   "cell_type": "code",
   "execution_count": null,
   "metadata": {},
   "outputs": [],
   "source": [
    "%%capture\n",
    "!pip install -q -U git+https://github.com/huggingface/transformers.git"
   ]
  },
  {
   "cell_type": "code",
   "execution_count": 2,
   "metadata": {
    "id": "rOmwg7JvNBZW"
   },
   "outputs": [],
   "source": [
    "from transformers import AutoModelForCausalLM, AutoTokenizer\n",
    "import torch"
   ]
  },
  {
   "cell_type": "code",
   "execution_count": 3,
   "metadata": {
    "id": "Ex_wWi2WNGT5"
   },
   "outputs": [],
   "source": [
    "tokenizer = AutoTokenizer.from_pretrained(\"EleutherAI/pythia-1.4b-deduped\")\n",
    "model = AutoModelForCausalLM.from_pretrained(\n",
    "    \"EleutherAI/pythia-1.4b-deduped\",\n",
    "    torch_dtype=torch.bfloat16,\n",
    "    rope_scaling={\"type\": \"dynamic\", \"factor\": 2.0},\n",
    ")"
   ]
  },
  {
   "cell_type": "code",
   "execution_count": 5,
   "metadata": {
    "colab": {
     "base_uri": "https://localhost:8080/"
    },
    "id": "zEvDZYElNX3E",
    "outputId": "a55ca4b5-7a3a-4706-db5c-46568310e952"
   },
   "outputs": [
    {
     "name": "stderr",
     "output_type": "stream",
     "text": [
      "Setting `pad_token_id` to `eos_token_id`:0 for open-end generation.\n"
     ]
    },
    {
     "name": "stdout",
     "output_type": "stream",
     "text": [
      "Pretend like this is some input larger than 5k tokens.\n",
      "\n",
      "A:\n",
      "\n",
      "I think you are looking for the following:\n",
      "\n",
      "The first step is to create a new column in the table.\n",
      "The second step is to create a new column in the table that is the sum of the\n"
     ]
    }
   ],
   "source": [
    "inputs = tokenizer(\n",
    "    \"Pretend like this is some input larger than 5k tokens\", return_tensors=\"pt\"\n",
    ")\n",
    "gen_out = model.generate(**inputs, max_new_tokens=50)\n",
    "print(tokenizer.batch_decode(gen_out)[0])"
   ]
  },
  {
   "cell_type": "code",
   "execution_count": 4,
   "metadata": {
    "id": "tLdVyFbmNn0s"
   },
   "outputs": [],
   "source": []
  }
 ],
 "metadata": {
  "colab": {
   "provenance": []
  },
  "kernelspec": {
   "display_name": "Python 3",
   "name": "python3"
  },
  "language_info": {
   "name": "python"
  }
 },
 "nbformat": 4,
 "nbformat_minor": 0
}
